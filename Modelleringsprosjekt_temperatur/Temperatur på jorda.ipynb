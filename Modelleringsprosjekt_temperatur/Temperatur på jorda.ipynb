{
 "cells": [
  {
   "cell_type": "markdown",
   "metadata": {},
   "source": [
    "# Modelleringsprosjekt - Temperatur på jorda\n"
   ]
  },
  {
   "cell_type": "markdown",
   "metadata": {},
   "source": [
    "#### Valerie Smidt"
   ]
  },
  {
   "cell_type": "markdown",
   "metadata": {},
   "source": [
    "## 1. Hensikt"
   ]
  },
  {
   "cell_type": "markdown",
   "metadata": {},
   "source": [
    "Lage en enkel modell som kalkulerer temperaturen på jordkloden"
   ]
  },
  {
   "cell_type": "markdown",
   "metadata": {},
   "source": [
    "## 2. Teori"
   ]
  },
  {
   "cell_type": "markdown",
   "metadata": {},
   "source": [
    "For å gå i gang med prosjektet er det en del ting vi må huske på.\n",
    "Stefan Boltzmanns lov: Alle gjenstander med temperatur over absolutt nullpunkt (0 Kelvin) vil gi ut varmestråling.\n",
    "$$ S = \\sigma T^4$$ $$der \\space \\sigma = 5,6703*10^-8 W/(m^2K^4)$$\n",
    "Hvor S er strålingen på et legme i W/m^2\n",
    "\n",
    "Solkonstanten er gjennomsnittlig energi fra sola som treffer jordas atmosfære vertikalt:\n",
    "$$Solkonstanten=1361 W/m^2$$\n",
    "\n",
    "$$S=\\frac{radius(sol)^2}{distanse(sol og planet)^2}*varmestråling\\space sol$$\n"
   ]
  },
  {
   "cell_type": "markdown",
   "metadata": {},
   "source": [
    "## 3. Gjennomføring"
   ]
  },
  {
   "cell_type": "code",
   "execution_count": 237,
   "metadata": {},
   "outputs": [],
   "source": [
    "from pylab import*\n",
    "#Noen Konstanter\n",
    "sigma = 5.67e-8                                  #W/m^2K^4\n",
    "temp_sol = 5778                                  #Kelvin\n",
    "radius_sol = 6.95700e8                           #meter\n",
    "distanse_jord_sol = 149.5978707e9                #meter\n",
    "distanse_sol_atmosfære = distanse_jord_sol-100e3 #meter\n",
    "radius_jord = 6.371e6                            #meter\n",
    "albedo = 0.3\n"
   ]
  },
  {
   "cell_type": "markdown",
   "metadata": {},
   "source": [
    "### Oppgave 1"
   ]
  },
  {
   "cell_type": "code",
   "execution_count": 238,
   "metadata": {},
   "outputs": [
    {
     "name": "stdout",
     "output_type": "stream",
     "text": [
      "1366.741531248521\n"
     ]
    }
   ],
   "source": [
    "varmestråling_sol = sigma*(temp_sol**4)\n",
    "S = ((radius_sol)**2)/(distanse_jord_sol**2)*varmestråling_sol    #Regner ut solkonstanten\n",
    "print(S)"
   ]
  },
  {
   "cell_type": "markdown",
   "metadata": {},
   "source": [
    "Solkonstanen er 1361 W/m^2 og svaret vi kom fram er nærme nok med bare 0.42% avvik, men avviket kan være grunnet i at distansen varierer siden jorda går rundt sola i ellipser og ikke perfekte sirkler. Jeg velger å bruke svaret jeg fikk i senere oppgaver siden avviket fra solkonstanten er ikke så stor.\n",
    "\n",
    "Hvorfor fungerer formelen:\n",
    "\n",
    "Formelen for å regne ut overflaten av en kule er 4πr^2.\n",
    "Det formelen jeg brukte egentlig gjør er at den finner forholdet mellom overflaten til jordkloden og overflaten til en imaginær kule som har sola i sentrum og strekker seg ut til jorda. Så blir det ganget med solas varmestråling. Jo lengere en planet er unna sola, jo mindre konsentrert blir varmestrålingen som treffer planeten. Så hvis jeg bruker samme formel for å finne solkonstanten på mars, får jeg bare 521 W/m^2 "
   ]
  },
  {
   "cell_type": "markdown",
   "metadata": {},
   "source": [
    "### Oppgave 2"
   ]
  },
  {
   "cell_type": "markdown",
   "metadata": {},
   "source": [
    "Hvis vi antar at temperaturen på planeten er konstant, så er energi inn lik energi ut i følge energiprinsippet. Jorda er en kule og vi vet at solståler er mest konentrert rundt ekvator og blir midre konsentrerte jo nærmere polene. Solkonstanten er en gjennomsnitt på hvor mye solenergi treffer en kvadratmeter, så vi kan derfor anta at jorda er en sirkel siden svaret vi skal få ut vil også være et gjennomsnitt av jordas temperatur.\n",
    "Jeg finner en formel for temperatur på jorda ved å sette opp to formler:\n",
    "\n",
    "$$Energi \\space inn = Solkonstanten*(1-albedo)*πr_j^2$$\n",
    "$$Energi \\space ut = \\sigma*T^4*4πr_j^2$$\n",
    "Siden energi inn er lik energi ut setter jeg formlene sammen og prøver å få Temperatur (T) alene på en side. Vi kan fjerner πr^2 fra begge sidene og flytter resten. Formelen jeg kom fram til er:\n",
    "$$T = \\sqrt[4]{\\frac{solkonstant*(1-albedo)}{4\\sigma}}$$"
   ]
  },
  {
   "cell_type": "code",
   "execution_count": 239,
   "metadata": {},
   "outputs": [
    {
     "name": "stdout",
     "output_type": "stream",
     "text": [
      "-18.299584881111002\n"
     ]
    }
   ],
   "source": [
    "T_kelvin = ((S*(1-albedo))/(4*sigma))**(1/4) #Jordas temperatur i Kelvin\n",
    "T = T_kelvin-273.15 #grader celcius\n",
    "print(T)"
   ]
  },
  {
   "cell_type": "markdown",
   "metadata": {},
   "source": [
    "Temperaturen vi fikk er mye lavere enn den faktiske gjennomsnittlige temperaturen på jorda på ca 15 grader Celcius. Dette er fordi vi antok at alle solstrålene som kommer inn i atmosfæren vil bli reflektert og kommer seg ut igjen. Men slik er det ikke i virkeligheten. For å får noe svar nærmere må vi legge til en atmosfære"
   ]
  },
  {
   "cell_type": "markdown",
   "metadata": {},
   "source": [
    "### Oppgave 3"
   ]
  },
  {
   "cell_type": "markdown",
   "metadata": {},
   "source": [
    "Jeg satt opp en likning for varmestrålingen som treffer jorda, og en annen for varmestrålingen som treffer atmosfæren. Når jeg satt dem sammen fikk jeg en formel for temperatur på jorda: "
   ]
  },
  {
   "cell_type": "code",
   "execution_count": 240,
   "metadata": {},
   "outputs": [
    {
     "name": "stdout",
     "output_type": "stream",
     "text": [
      "155.45560099878963\n"
     ]
    }
   ],
   "source": [
    "T_sol=(2*((S)*(1-albedo))/sigma)**(1/4)   #formelen for temperatur på jorda \n",
    "T_sol_celcius= T_sol-273.15\n",
    "print(T_sol_celcius)"
   ]
  },
  {
   "cell_type": "markdown",
   "metadata": {},
   "source": [
    "Det er vel ikke så varmt på jorda, det er fortatt liv her. Svaret ble så høyt fordi vi antok at hele jorda blir truffet av solstråler, men i virkeligheten er det bare en fjeredel av den totale innstrålingen som treffer jorda nokså vertikalt om gangen. Dette skyldes jordas rotasjon rundt sin even akse. Så for å få en temperatur nærmere virkeligheten kan vi dele solkonstanten på fire:"
   ]
  },
  {
   "cell_type": "code",
   "execution_count": 241,
   "metadata": {},
   "outputs": [
    {
     "name": "stdout",
     "output_type": "stream",
     "text": [
      "29.919926920779858\n"
     ]
    }
   ],
   "source": [
    "T_sol_ny = (2*((S/4)*(1-albedo))/sigma)**(1/4)  #legger til S/4\n",
    "T_sol_celcius_ny = T_sol_ny-273.15\n",
    "print(T_sol_celcius_ny)"
   ]
  },
  {
   "cell_type": "markdown",
   "metadata": {},
   "source": [
    "Dette tallet er fortsatt 15 celcius over den faktiske gjennomsnittlige temperaturen. Dette er fordi atmosfæren selv tar opp en del av energien fra varmestrålingen. Da er det å legge til noe mer i utregningen:"
   ]
  },
  {
   "cell_type": "markdown",
   "metadata": {},
   "source": [
    "### Oppgave 4"
   ]
  },
  {
   "cell_type": "markdown",
   "metadata": {},
   "source": [
    "Med noe søking på nettet fant jeg ut at 23% av strålingen blir absorbert av amosfæren.Hvis man tenker på atmosfæren som en lag med gasser, så er det to retninger atmosfæren kan sende ut stråling, ned til jorda og ut i verdensrommet. Jeg antar at atmosfæren sender ut ca halvparten ut og halvparten inn. Da er det bare å legge til 23% delt på to: "
   ]
  },
  {
   "cell_type": "code",
   "execution_count": 242,
   "metadata": {},
   "outputs": [
    {
     "name": "stdout",
     "output_type": "stream",
     "text": [
      "16.62258881323305\n"
     ]
    }
   ],
   "source": [
    "T_sol=(2*((S/4)*(1-albedo-0.23/2))/sigma)**(1/4)  #legger til 0.23/2\n",
    "T_sol_celcius= T_sol-273.15\n",
    "print(T_sol_celcius)"
   ]
  },
  {
   "cell_type": "markdown",
   "metadata": {},
   "source": [
    "Her har vi kommet nærme, men er det kanskje noe mer å legge til? Jeg tenker at jorda vil også reflektere en del av strålingen. Her var det litt vanskelig å finne en nøyaktig tall, men f.eks North Carolina Climate Office skrev at jorda reflekterte 4% av de 51% som hadde nådd jordoverflaten. Men det er vel ikke de hele 4% som blir absorbert av atmosfæren, men kanskje bare 70%, og resten (albedo) blir reflektert tilbake til jorda."
   ]
  },
  {
   "cell_type": "code",
   "execution_count": 244,
   "metadata": {},
   "outputs": [
    {
     "name": "stdout",
     "output_type": "stream",
     "text": [
      "Beregningen av gjennomsnittstemperaturen inkludert atmosfæren gir en temperatur på 15.13 celsius\n"
     ]
    }
   ],
   "source": [
    "T_sol=(2*((S/4)*(1-albedo-0.23/2-(albedo*0.04)))/sigma)**(1/4) #legger til solstrålene som blir reflektert av joroverflaten\n",
    "T_sol_celcius= T_sol-273.15\n",
    "print(f'Beregningen av gjennomsnittstemperaturen inkludert atmosfæren gir en temperatur på {round(T_sol_celcius,2)} celsius')"
   ]
  },
  {
   "cell_type": "markdown",
   "metadata": {},
   "source": [
    "### Oppgave 5"
   ]
  },
  {
   "cell_type": "markdown",
   "metadata": {},
   "source": [
    "Jorda går i ellipser rundt sola. I tilegg er jordas akse skråstilt og tilter gjennom året. Derfor er det sommer i den nordlige halvkulen når aksen er tiltet mot sola, og vinter i den sørlige halvkulen. Her i norge opplever vi 4 årstider siden vi blir veldig påvirket av hvor jordas akse peker, men i land nærme ekvator er temperaturen mer stabil gjennom året. Der kan man tenke at det finnes bare to årstider, våt og tørr årstid, men begge er varme. Så hvis jeg skal modellere temperaturen i et land gjennom et år, er det enklest å ta et land rundt ekvator. Jeg velger Ecuador siden den ligger på ekvator og er oppkalt etter den. Siden landet ligger ved ekvator, så er det avstanden mellom jorda og sola som påvirker temperaturen mest gjennom ett år. Det er slik at sola ikke ligger helt i sentrum av jordas ellipse, så hvis man søker litt, finner vi ut at jorda er faktisk nærmest sola i Januar og lengs unna sola i Juli. "
   ]
  },
  {
   "cell_type": "code",
   "execution_count": 245,
   "metadata": {},
   "outputs": [
    {
     "data": {
      "image/png": "[encoded data removed]",
      "text/plain": [
       "<Figure size 432x288 with 1 Axes>"
      ]
     },
     "metadata": {
      "needs_background": "light"
     },
     "output_type": "display_data"
    }
   ],
   "source": [
    "import numpy \n",
    "perihelion = 146e9   #korteste avstanden mellom jorda og sola i Januar i meter\n",
    "aphelion = 152e9     #lengste avstanden mellom jorda og sola i Juli i meter \n",
    "distanse = perihelion\n",
    "\n",
    "distanse_liste = [146e9] #liste for antall dager i ett år\n",
    "solintensitet = []       #array for intensitet av solinnstrålingen i W/m^2\n",
    "dager = []               \n",
    "temp = []\n",
    "dis = distanse_liste     #forkortelser\n",
    "solin = solintensitet\n",
    "\n",
    "for a in range(366):     #lager en liste med dagene i ett år\n",
    "    dager.append(a)\n",
    "dager.remove(0)          \n",
    "\n",
    "for dag in range(364):   #lager en loop som regner ut avstanden mellom joda og sola og legger det til en liste\n",
    "    if dag < 365/2:\n",
    "        perihelion = perihelion + ((152e9-146e9)/(365/2))\n",
    "        dis.append(perihelion)\n",
    "    else:\n",
    "        aphelion = aphelion - ((152e9-146e9)/(365/2))\n",
    "        dis.append(aphelion)\n",
    "        \n",
    "for i in range(365):    #nå som vi vet avstanden, kan vi regne ut mengden solinnstråling per kvadratmeter\n",
    "    S = ((radius_sol)**2)/(dis[i]**2)*varmestråling_sol\n",
    "    solin.append(S)\n",
    "    \n",
    "for i in range(365):    #loop som regner ut gjennomsnittlig temperatur for hver dag\n",
    "    T_sol = (2*((solin[i]/4)*(1-0.205-0.23/2-(albedo*0.04)))/sigma)**(1/4)\n",
    "    T_sol_celcius = T_sol-273.15\n",
    "    temp.append(T_sol_celcius)\n",
    "    \n",
    "plot(dager,temp)\n",
    "xlabel(\"Dager\")\n",
    "ylabel(\"Temperatur (celsius)\")\n",
    "grid()\n",
    "show()\n"
   ]
  },
  {
   "cell_type": "markdown",
   "metadata": {},
   "source": [
    "## 4. Diskusjon"
   ]
  },
  {
   "cell_type": "markdown",
   "metadata": {},
   "source": [
    "I oppgave 5 så antok jeg at jordas fart rundt sola er konstant, så jeg tok like lange steg for hver dag. Men slik er det ikke i virkeligheten, siden farten blir større jo nærmere sola. Dette var en forenkling. Ecuador har også en lavere albedo enn jordas gjennomsnitt, og jeg var usikker på hvordan jeg skulle finne den ut. På nettet fant jeg ut at albedo til grønt gress er 0.25, albedo til jord er 0.17 og albedo til skog er 0.15. Jeg så på en satelittbilde av Ecuador or antok at en gjennomsnittsalbdeo er 0.205. Det er også mange andre ting jeg ikke tok hensyn til, for eksempel Ekuador har en fuktig klima,og det er slik at fuktig luft holder varmen mer effektivt enn tørr luft. Denne fuktigheten varierer rundt året. En annen ting jeg ikke fikk ta med i modellen er solgangsvind. Ecuador grenser sjøen, som blir varmet opp på dagen og vil gi varme til landet om natten. Modellen jeg lagde er veldig enkel og ikke nøyaktig."
   ]
  },
  {
   "cell_type": "markdown",
   "metadata": {},
   "source": [
    "## 5. Konklusjon"
   ]
  },
  {
   "cell_type": "markdown",
   "metadata": {},
   "source": [
    "Jeg har fått til å regne ut gjennomsnittlig varmestråling, temperatur på jorda uten atmosfære og temperatur på jorda med ulike modeller for atmosfæren. \n",
    "\n",
    "I tillegg lagde jeg en forenklet modell for temperaturen i Ecuador over ett år. Modellen kan utviddes ved å ta hennsyn til fuktigheten i luften, landets terreng og solgangsvind."
   ]
  },
  {
   "cell_type": "code",
   "execution_count": null,
   "metadata": {},
   "outputs": [],
   "source": []
  }
 ],
 "metadata": {
  "kernelspec": {
   "display_name": "Python 3",
   "language": "python",
   "name": "python3"
  },
  "language_info": {
   "codemirror_mode": {
    "name": "ipython",
    "version": 3
   },
   "file_extension": ".py",
   "mimetype": "text/x-python",
   "name": "python",
   "nbconvert_exporter": "python",
   "pygments_lexer": "ipython3",
   "version": "3.8.3"
  }
 },
 "nbformat": 4,
 "nbformat_minor": 4
}
