{
 "cells": [
  {
   "cell_type": "markdown",
   "metadata": {},
   "source": [
    "# Lekse 06.11"
   ]
  },
  {
   "cell_type": "markdown",
   "metadata": {},
   "source": []
  },
  {
   "cell_type": "code",
   "execution_count": 70,
   "metadata": {},
   "outputs": [
    {
     "data": {
      "image/png": "[encoded data removed]",
      "text/plain": [
       "<Figure size 432x288 with 1 Axes>"
      ]
     },
     "metadata": {
      "needs_background": "light"
     },
     "output_type": "display_data"
    }
   ],
   "source": [
    "from pylab import *\n",
    "\n",
    "data = loadtxt(\"Temperaturpåvann.csv\", skiprows= 1, delimiter = \",\", usecols = (1, 2))\n",
    "\n",
    "tid = data[:, 0]\n",
    "temp = data[:, 1]\n",
    "\n",
    "plot(tid, temp, color=\"hotpink\")\n",
    "xlabel(\"tid(s)\")\n",
    "ylabel(\"temperatur etter vi skrudde på vasken(C)\")\n",
    "grid()\n",
    "show()\n"
   ]
  },
  {
   "cell_type": "markdown",
   "metadata": {},
   "source": [
    "Temperaturen når sin max verdi på 40 grader og flate ut der"
   ]
  },
  {
   "cell_type": "code",
   "execution_count": 85,
   "metadata": {},
   "outputs": [
    {
     "name": "stdout",
     "output_type": "stream",
     "text": [
      "Gjennomsnittet av temperaturen målt er 30.84\n",
      "Standardavviket av temperaturen målt er 10.16\n"
     ]
    }
   ],
   "source": [
    "\n",
    "from pylab import *\n",
    "\n",
    "data = loadtxt(\"Temperaturpåvann.csv\", skiprows= 1, delimiter = \",\", usecols = (1, 2))\n",
    "temp = data[:, 1]\n",
    "print(\"Gjennomsnittet av temperaturen målt er\", round(sum(temp)/len(temp), 2))\n",
    "\n",
    "avvik = numpy.std(temp)\n",
    "\n",
    "print(\"Standardavviket av temperaturen målt er\", round(avvik, 2))\n",
    "\n"
   ]
  },
  {
   "cell_type": "code",
   "execution_count": null,
   "metadata": {},
   "outputs": [],
   "source": [
    "Jeg prøvde meg på ekstraoppgaven"
   ]
  },
  {
   "cell_type": "code",
   "execution_count": null,
   "metadata": {},
   "outputs": [],
   "source": [
    "from pylab import *\n",
    "\n",
    "tall = list(range(2,101))\n",
    "p = 2\n",
    "while p * p <= 101: \n",
    "    for i in range(p * p, 101, p):\n",
    "        tall.remove(i)\n",
    "    p += 1\n",
    "    \n",
    "print(tall)"
   ]
  },
  {
   "cell_type": "code",
   "execution_count": 111,
   "metadata": {},
   "outputs": [
    {
     "name": "stdout",
     "output_type": "stream",
     "text": [
      "[2, 4, 5, 6, 7, 8, 9, 10, 11, 12, 13, 14, 15, 16, 17, 18, 19, 20, 21, 22, 23, 24, 25, 26, 27, 28, 29, 30, 31, 32, 33, 34, 35, 36, 37, 38, 39, 40, 41, 42, 43, 44, 45, 46, 47, 48, 49, 50, 51, 52, 53, 54, 55, 56, 57, 58, 59, 60, 61, 62, 63, 64, 65, 66, 67, 68, 69, 70, 71, 72, 73, 74, 75, 76, 77, 78, 79, 80, 81, 82, 83, 84, 85, 86, 87, 88, 89, 90, 91, 92, 93, 94, 95, 96, 97, 98, 99, 100]\n"
     ]
    }
   ],
   "source": [
    "from pylab import *\n",
    "t= 100\n",
    "def primtall(t):\n",
    "    tall = array[range(t)] \n",
    "    p = 2\n",
    "    while p * p <= t:  \n",
    "        for i in range(p * p, t, p): \n",
    "            remove(tall[i])\n",
    "    p += 1\n",
    "    return tall\n",
    "print(tall)\n",
    "    "
   ]
  },
  {
   "cell_type": "code",
   "execution_count": null,
   "metadata": {},
   "outputs": [],
   "source": [
    "from pylab import *\n",
    "\n",
    "tall = list(range(2,101))\n",
    "p = 2\n",
    "while p * p <= 101: \n",
    "    for i in range(p * p, 101, p):\n",
    "        if p in tall:\n",
    "            tall.remove(i)\n",
    "            p += 1\n",
    "        elif p not in tall:\n",
    "            \n",
    "print(tall)"
   ]
  },
  {
   "cell_type": "code",
   "execution_count": 114,
   "metadata": {},
   "outputs": [
    {
     "ename": "SyntaxError",
     "evalue": "invalid syntax (<ipython-input-114-3f3b402de688>, line 8)",
     "output_type": "error",
     "traceback": [
      "\u001b[0;36m  File \u001b[0;32m\"<ipython-input-114-3f3b402de688>\"\u001b[0;36m, line \u001b[0;32m8\u001b[0m\n\u001b[0;31m    remove(tall[])\u001b[0m\n\u001b[0m                ^\u001b[0m\n\u001b[0;31mSyntaxError\u001b[0m\u001b[0;31m:\u001b[0m invalid syntax\n"
     ]
    }
   ],
   "source": [
    "from pylab import *\n",
    "t= 100\n",
    "def primtall(t):\n",
    "    tall = array[range(t)] \n",
    "    p = 2\n",
    "    while p * p <= t:  \n",
    "        for i in range(p * p, t, p): \n",
    "            remove(tall[])\n",
    "    p += 1\n",
    "    return tall\n",
    "print(tall)\n"
   ]
  },
  {
   "cell_type": "code",
   "execution_count": null,
   "metadata": {},
   "outputs": [],
   "source": []
  },
  {
   "cell_type": "code",
   "execution_count": null,
   "metadata": {},
   "outputs": [],
   "source": []
  }
 ],
 "metadata": {
  "kernelspec": {
   "display_name": "Python 3",
   "language": "python",
   "name": "python3"
  },
  "language_info": {
   "codemirror_mode": {
    "name": "ipython",
    "version": 3
   },
   "file_extension": ".py",
   "mimetype": "text/x-python",
   "name": "python",
   "nbconvert_exporter": "python",
   "pygments_lexer": "ipython3",
   "version": "3.8.3"
  }
 },
 "nbformat": 4,
 "nbformat_minor": 4
}
